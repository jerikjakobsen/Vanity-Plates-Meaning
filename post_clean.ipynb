{
 "cells": [
  {
   "cell_type": "code",
   "execution_count": 1,
   "metadata": {},
   "outputs": [],
   "source": [
    "import pandas as pd"
   ]
  },
  {
   "cell_type": "code",
   "execution_count": null,
   "metadata": {},
   "outputs": [
    {
     "data": {
      "text/html": [
       "<div>\n",
       "<style scoped>\n",
       "    .dataframe tbody tr th:only-of-type {\n",
       "        vertical-align: middle;\n",
       "    }\n",
       "\n",
       "    .dataframe tbody tr th {\n",
       "        vertical-align: top;\n",
       "    }\n",
       "\n",
       "    .dataframe thead th {\n",
       "        text-align: right;\n",
       "    }\n",
       "</style>\n",
       "<table border=\"1\" class=\"dataframe\">\n",
       "  <thead>\n",
       "    <tr style=\"text-align: right;\">\n",
       "      <th></th>\n",
       "      <th>valid</th>\n",
       "      <th>plate</th>\n",
       "      <th>customer_meaning</th>\n",
       "      <th>reviewer_comments</th>\n",
       "      <th>status</th>\n",
       "      <th>review_reason_code</th>\n",
       "    </tr>\n",
       "    <tr>\n",
       "      <th>index</th>\n",
       "      <th></th>\n",
       "      <th></th>\n",
       "      <th></th>\n",
       "      <th></th>\n",
       "      <th></th>\n",
       "      <th></th>\n",
       "    </tr>\n",
       "  </thead>\n",
       "  <tbody>\n",
       "    <tr>\n",
       "      <th>22979</th>\n",
       "      <td>3</td>\n",
       "      <td>TYJUICY</td>\n",
       "      <td>THANK YOU TO MY DECEASED HUSBAND</td>\n",
       "      <td>PULLED FOR JUICY</td>\n",
       "      <td>N</td>\n",
       "      <td>1</td>\n",
       "    </tr>\n",
       "    <tr>\n",
       "      <th>8415</th>\n",
       "      <td>3</td>\n",
       "      <td>DUB JUKE</td>\n",
       "      <td>my nickname is dub. I own a nissan juke car.</td>\n",
       "      <td>dub can have a drug connotation</td>\n",
       "      <td>N</td>\n",
       "      <td>3</td>\n",
       "    </tr>\n",
       "    <tr>\n",
       "      <th>14100</th>\n",
       "      <td>0</td>\n",
       "      <td>PMD 14</td>\n",
       "      <td>MY SONS INITIALS AND HIS ATHLETIC NUMBER</td>\n",
       "      <td>14 = GANG NUMBER</td>\n",
       "      <td>N</td>\n",
       "      <td>2</td>\n",
       "    </tr>\n",
       "    <tr>\n",
       "      <th>2781</th>\n",
       "      <td>0</td>\n",
       "      <td>415M3</td>\n",
       "      <td>CALL CODE FOR WORK</td>\n",
       "      <td>415 AREA CODE</td>\n",
       "      <td>N</td>\n",
       "      <td>2</td>\n",
       "    </tr>\n",
       "    <tr>\n",
       "      <th>14733</th>\n",
       "      <td>3</td>\n",
       "      <td>DR DABS</td>\n",
       "      <td>NICKNAME</td>\n",
       "      <td>DABS=BUTANE HASH OIL, DRUG CONNOTATION</td>\n",
       "      <td>N</td>\n",
       "      <td>7D</td>\n",
       "    </tr>\n",
       "  </tbody>\n",
       "</table>\n",
       "</div>"
      ],
      "text/plain": [
       "       valid     plate                              customer_meaning  \\\n",
       "index                                                                  \n",
       "22979      3   TYJUICY              THANK YOU TO MY DECEASED HUSBAND   \n",
       "8415       3  DUB JUKE  my nickname is dub. I own a nissan juke car.   \n",
       "14100      0    PMD 14      MY SONS INITIALS AND HIS ATHLETIC NUMBER   \n",
       "2781       0     415M3                            CALL CODE FOR WORK   \n",
       "14733      3   DR DABS                                      NICKNAME   \n",
       "\n",
       "                            reviewer_comments status review_reason_code  \n",
       "index                                                                    \n",
       "22979                        PULLED FOR JUICY      N                  1  \n",
       "8415          dub can have a drug connotation      N                  3  \n",
       "14100                        14 = GANG NUMBER      N                  2  \n",
       "2781                            415 AREA CODE      N                  2  \n",
       "14733  DABS=BUTANE HASH OIL, DRUG CONNOTATION      N                 7D  "
      ]
     },
     "execution_count": 45,
     "metadata": {},
     "output_type": "execute_result"
    }
   ],
   "source": [
    "john_review = pd.read_csv(\"john_ca_plates_with_valid.csv\", index_col=\"index\", encoding='ISO-8859-1')\n",
    "jiahao_review = pd.read_csv(\"jiahao_review_ca.csv\", index_col=\"index\")\n",
    "cameron_review_1 = pd.read_csv(\"cameron_first_500.csv\", index_col=\"index\")\n",
    "cameron_review_2 = pd.read_csv(\"cameron_extra_600.csv\", index_col=\"index\")"
   ]
  },
  {
   "cell_type": "code",
   "execution_count": 46,
   "metadata": {},
   "outputs": [],
   "source": [
    "def meaningFromCode(row):\n",
    "    valid = row[\"valid\"]\n",
    "    if valid == 1:\n",
    "        return row[\"customer_meaning\"]\n",
    "    if valid == 2:\n",
    "        return row[\"reviewer_comments\"]\n",
    "    if valid == 3:\n",
    "        return row[\"customer_meaning\"] + \" \" + row[\"reviewer_comments\"]\n",
    "    return \"\""
   ]
  },
  {
   "cell_type": "code",
   "execution_count": 72,
   "metadata": {},
   "outputs": [],
   "source": [
    "# Prepare John's Reviewed plates\n",
    "john_review = john_review[john_review[\"valid\"].notna()]\n",
    "john_review_prepped = john_review.copy()\n",
    "john_review_prepped = john_review_prepped[john_review[\"valid\"].notna()]\n",
    "john_review_prepped[\"valid\"] = john_review_prepped[\"valid\"].astype(int)\n",
    "john_review_prepped = john_review_prepped[john_review_prepped[\"valid\"] != 0]\n",
    "john_review_prepped[\"meaning\"] = john_review_prepped.apply(meaningFromCode, axis=1)"
   ]
  },
  {
   "cell_type": "code",
   "execution_count": 63,
   "metadata": {},
   "outputs": [],
   "source": [
    "# Prepare Cameron's Reviewed plates\n",
    "cameron_review = pd.concat([cameron_review_1, cameron_review_2])\n",
    "cameron_review_prepped = cameron_review.copy()\n",
    "cameron_review_prepped = cameron_review_prepped[cameron_review_prepped[\"valid\"].notna()]\n",
    "cameron_review_prepped[\"valid\"] = cameron_review_prepped[\"valid\"].astype(int)\n",
    "cameron_review_prepped = cameron_review_prepped[cameron_review_prepped[\"valid\"] != 0]\n",
    "cameron_review_prepped[\"meaning\"] = cameron_review_prepped.apply(meaningFromCode, axis=1)"
   ]
  },
  {
   "cell_type": "code",
   "execution_count": 69,
   "metadata": {},
   "outputs": [],
   "source": [
    "# Prepare Jiahao's Reviewed plates\n",
    "jiahao_review_prepped = jiahao_review.copy()\n",
    "jiahao_review_prepped[\"valid\"] = jiahao_review_prepped[\"review_reason_code.1\"]\n",
    "jiahao_review_prepped = jiahao_review_prepped.drop(\"review_reason_code.1\", axis=\"columns\")\n",
    "\n",
    "jiahao_review_prepped = jiahao_review_prepped[jiahao_review_prepped[\"valid\"].notna()]\n",
    "jiahao_review_prepped[\"valid\"] = jiahao_review_prepped[\"valid\"].astype(int)\n",
    "jiahao_review_prepped = jiahao_review_prepped[jiahao_review_prepped[\"valid\"] != 0]"
   ]
  },
  {
   "cell_type": "code",
   "execution_count": 74,
   "metadata": {},
   "outputs": [
    {
     "name": "stdout",
     "output_type": "stream",
     "text": [
      "Total reviewed records: 1998\n",
      "Total removed records: 528\n",
      "Total records with valid plate meanings: 1470\n"
     ]
    }
   ],
   "source": [
    "final_prepped_df = pd.concat([john_review_prepped, cameron_review_prepped, jiahao_review_prepped])\n",
    "total_reviewed_plates = len(cameron_review) + len(john_review) + len(jiahao_review)\n",
    "total_valid_plates = len(final_prepped_df)\n",
    "print(f\"Total reviewed records: {total_reviewed_plates}\")\n",
    "print(f\"Total removed records: {total_reviewed_plates - total_valid_plates}\")\n",
    "print(f\"Total records with valid plate meanings: {total_valid_plates}\")"
   ]
  },
  {
   "cell_type": "code",
   "execution_count": 75,
   "metadata": {},
   "outputs": [],
   "source": [
    "final_prepped_df.to_csv(\"combined_reviewed_ca_plates.csv\", index=True, index_label=\"index\")"
   ]
  }
 ],
 "metadata": {
  "kernelspec": {
   "display_name": "Python 3",
   "language": "python",
   "name": "python3"
  },
  "language_info": {
   "codemirror_mode": {
    "name": "ipython",
    "version": 3
   },
   "file_extension": ".py",
   "mimetype": "text/x-python",
   "name": "python",
   "nbconvert_exporter": "python",
   "pygments_lexer": "ipython3",
   "version": "3.12.4"
  }
 },
 "nbformat": 4,
 "nbformat_minor": 2
}
