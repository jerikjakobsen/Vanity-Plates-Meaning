{
 "cells": [
  {
   "cell_type": "code",
   "execution_count": null,
   "metadata": {},
   "outputs": [],
   "source": []
  },
  {
   "cell_type": "code",
   "execution_count": 1,
   "metadata": {},
   "outputs": [
    {
     "name": "stderr",
     "output_type": "stream",
     "text": [
      "/usr/local/lib/python3.10/dist-packages/tqdm/auto.py:21: TqdmWarning: IProgress not found. Please update jupyter and ipywidgets. See https://ipywidgets.readthedocs.io/en/stable/user_install.html\n",
      "  from .autonotebook import tqdm as notebook_tqdm\n"
     ]
    }
   ],
   "source": [
    "import pandas as pd\n",
    "from transformers import pipeline\n",
    "from tqdm import tqdm\n",
    "import csv"
   ]
  },
  {
   "cell_type": "code",
   "execution_count": 2,
   "metadata": {},
   "outputs": [],
   "source": [
    "file_path = \"interpreted_applications.csv\"\n",
    "df = pd.read_csv(file_path)"
   ]
  },
  {
   "cell_type": "code",
   "execution_count": 3,
   "metadata": {},
   "outputs": [
    {
     "name": "stderr",
     "output_type": "stream",
     "text": [
      "Hardware accelerator e.g. GPU is available in the environment, but no `device` argument is passed to the `Pipeline` object. Model will be on CPU.\n"
     ]
    }
   ],
   "source": [
    "classifier = pipeline(\"zero-shot-classification\", model=\"facebook/bart-large-mnli\")"
   ]
  },
  {
   "cell_type": "code",
   "execution_count": 4,
   "metadata": {},
   "outputs": [],
   "source": [
    "labels = [\n",
    "    \"Personal and Family names\",\n",
    "    \"Business and University Identities\",\n",
    "    \"Vehicle and Car Descriptions and Attributes\",\n",
    "    \"Diverse Personal Expressions\",\n",
    "    \"Area code and Numbers\",\n",
    "    \"Gang Color and Controversial Affiliations\",\n",
    "    \"Pet and Animal Themes\",\n",
    "    \"Colors and Descriptive Traits\"\n",
    "]"
   ]
  },
  {
   "cell_type": "code",
   "execution_count": 10,
   "metadata": {},
   "outputs": [
    {
     "name": "stderr",
     "output_type": "stream",
     "text": [
      "Classifying and writing rows: 100%|██████████| 2088/2088 [42:17<00:00,  1.22s/it]\n"
     ]
    }
   ],
   "source": [
    "output_file_path = \"interpreted_applications_with_predictions.csv\"\n",
    "with open(output_file_path, mode='w', newline='') as file:\n",
    "    writer = csv.writer(file)\n",
    "    # Write the header row\n",
    "    writer.writerow([\"plate\", \"majority_vote\", \"gpt_meaning\", \"predicted_class\"])\n",
    "    for index, row in tqdm(df.iterrows(), total=len(df), desc=\"Classifying and writing rows\"):\n",
    "        if pd.notna(row['gpt_meaning']):\n",
    "            result = classifier(row['gpt_meaning'], labels)\n",
    "            predicted_class = result['labels'][0]\n",
    "        else:\n",
    "            predicted_class = None\n",
    "        writer.writerow([row['plate'], row['majority_vote'], row['gpt_meaning'], predicted_class])\n",
    "        file.flush()  # Ensure data is written to disk"
   ]
  },
  {
   "cell_type": "code",
   "execution_count": null,
   "metadata": {},
   "outputs": [],
   "source": [
    "if (index + 1) % 500 == 0:\n",
    "    print(f\"Auto-saving and downloading after {index + 1} rows completed.\")\n",
    "    # Provide a download link or trigger download logic as per the environment\n",
    "\n",
    "print(\"Predicted classes have been saved to interpreted_applications_with_predictions.csv\")"
   ]
  }
 ],
 "metadata": {
  "kernelspec": {
   "display_name": "Python 3",
   "language": "python",
   "name": "python3"
  },
  "language_info": {
   "codemirror_mode": {
    "name": "ipython",
    "version": 3
   },
   "file_extension": ".py",
   "mimetype": "text/x-python",
   "name": "python",
   "nbconvert_exporter": "python",
   "pygments_lexer": "ipython3",
   "version": "3.10.12"
  }
 },
 "nbformat": 4,
 "nbformat_minor": 2
}
