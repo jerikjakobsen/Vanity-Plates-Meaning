{
 "cells": [
  {
   "cell_type": "code",
   "execution_count": 1,
   "metadata": {},
   "outputs": [],
   "source": [
    "import pandas as pd\n",
    "pd.options.display.max_colwidth = 100"
   ]
  },
  {
   "cell_type": "code",
   "execution_count": 2,
   "metadata": {},
   "outputs": [],
   "source": [
    "ca_license_plates_df = pd.read_csv(\"applications.csv\")"
   ]
  },
  {
   "cell_type": "code",
   "execution_count": null,
   "metadata": {},
   "outputs": [
    {
     "name": "stdout",
     "output_type": "stream",
     "text": [
      "4231\n"
     ]
    }
   ],
   "source": [
    "cleaned_ca_plates = ca_license_plates_df.drop_duplicates(\n",
    "    subset=\"plate\"\n",
    "    ).dropna(\n",
    "        subset=[\"customer_meaning\", \"reviewer_comments\", \"plate\"]\n",
    "    ).sample(\n",
    "        frac=1\n",
    "    )\n",
    "\n",
    "cleaned_ca_plates[\"customer_meaning\"] = cleaned_ca_plates[\"customer_meaning\"].str.strip().str.replace('\"', '').str.replace(\"'\", '')\n",
    "cleaned_ca_plates[\"reviewer_comments\"] = cleaned_ca_plates[\"reviewer_comments\"].str.strip().str.replace('\"', '').str.replace(\"'\", '')\n",
    "\n",
    "split_size = int(0.3*len(cleaned_ca_plates))\n",
    "split1, split2, split3 = cleaned_ca_plates[:split_size], cleaned_ca_plates[split_size:2*split_size], cleaned_ca_plates[2*split_size:]"
   ]
  },
  {
   "cell_type": "code",
   "execution_count": 33,
   "metadata": {},
   "outputs": [],
   "source": [
    "split1.to_csv(\"john_ca_plates.csv\", index=True, index_label=\"index\")\n",
    "split2.to_csv(\"jiahao_ca_plates.csv\", index=True, index_label=\"index\")\n",
    "split3.to_csv(\"cameron_ca_plates.csv\", index=True, index_label=\"index\")"
   ]
  }
 ],
 "metadata": {
  "kernelspec": {
   "display_name": "Python 3",
   "language": "python",
   "name": "python3"
  },
  "language_info": {
   "codemirror_mode": {
    "name": "ipython",
    "version": 3
   },
   "file_extension": ".py",
   "mimetype": "text/x-python",
   "name": "python",
   "nbconvert_exporter": "python",
   "pygments_lexer": "ipython3",
   "version": "3.12.4"
  }
 },
 "nbformat": 4,
 "nbformat_minor": 2
}
